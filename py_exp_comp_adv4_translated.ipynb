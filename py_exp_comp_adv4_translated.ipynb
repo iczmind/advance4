{
 "cells": [
  {
   "cell_type": "markdown",
   "metadata": {},
   "source": [
    "\n",
    "# Metode Komputasi Eksplorasi Menggunakan Python\n",
    "\n",
     "*Oleh Mark Bakker, TU Delft Belanda.*\n",
    "\n",
    "*Versi Indonesia disesuaikan oleh Tim ITB dan Tim ITS.*\n"
    "## Topik Lanjutan Notebook 4: Grafik Interaktif Menggunakan *Widget-widget* yang Tersedia Dalam `matplotlib` "
   ]
  },
  {
   "cell_type": "markdown",
   "metadata": {},
   "source": [
    "Dalam Notebook ini kita akan belajar cara-cara untuk membuat grafik yang lebih interaktif menggunakan beragam *widget* yang disediakan dalam paket `matplotlib`. *Widget* (pengucapan: ˈwɪdʒɪt') merupakan fasilitas yang disediakan dalam sebuah *user interface* untuk memungkinkan *user* berinteraksi dengan program yang sedang dijalankan. Contohnya, **tombol radio** yang hanya membiarkan *user* menentukan satu pilihan pengaturan dalam satu kategori, **tombol check** di mana *user* dapat membuat beberapa pilihan pengaturan dalam satu kategori, dan **sliders** yang memungkinkan *user* mengubah pengaturan dengan menggeser penanda pada bar yang ditampilkan pada grafik."
   ]
  },
  {
   "cell_type": "code",
   "execution_count": 1,
   "metadata": {
    "collapsed": false
   },
   "outputs": [],
   "source": [
    "%pylab qt"
   ]
  },
  {
   "cell_type": "markdown",
   "metadata": {},
   "source": [
    "### Menciptakan sebuah *widget*\n",
    "\n",
    "Proses yang dibutuhkan untuk membuat sebuah *widget* adalah sama untuk setiap jenis *widget* lainnya:\n",
    "\n",
    "1. Buatlah gambar dengan grafik yang ingin anda tampilkan, simpan komponen-komponen grafik yang ingin anda ubah setelah grafik ditampilkan sebagai objek.\n",
    "2. Tambahkan sebuah sumbu yang baru untuk masing-masing *widget* yang ingin anda buat\n",
    "3. Pilih *widget* yang anda inginkan dan tambahkan ke dalam gambar, gunakan sumbu yang telah anda ciptakan pada langkah sebelumnya untuk menentukan lokasi yang tepat bagi *widget* ini.\n",
    "4. Tulislah sebuah fungsi yang akan terpanggil apabila pengaturan yang ditampilkan oleh *widget* yang bersangkutan diubah\n",
    "5. Tambahkan baris kode untuk memastikan bahwa *widget* yang telah anda buat akan memanggil fungsi yang berkaitan ketika *user* mengubah pengaturan yang ditampilkan pada *widget* tersebut.\n",
    "6. Setelah kelima langkah sebelumnya anda lakukan, tampilkan gambar yang telah anda buat menggunakan perintah `show()`.\n",
    "\n",
    "Sebelum anda mulai membuat kode anda, *widget* harus diimpor terlebih dahulu dari `matplotlib.widgets`. Seluruh pilihan *widget* yang disediakan oleh `matplotlib` dapat anda cek di <a href=\"http://matplotlib.org/examples/widgets/\">link ini</a>. Dalam Notebook ini kita akan menggunakan **tombol radio** dan **slider**."
   ]
  },
  {
   "cell_type": "markdown",
   "metadata": {},
   "source": [
    "### Tombol Radio\n",
    "\n",
    "Bayangkan sebuah grafik berbentuk lingkaran di mana selanjutnya akan kita tambahkan sebuah tombol radio untuk memungkinkan pengguna lainnya mengubah pengaturan dari radius lingkaran yang ditampilkan. Kode yang dibutuhkan untuk menciptakan gambar ini beserta dengan contoh dari gambar yang dihasilkan dapat dilihat pada sel kode di bawah ini.\n",
    "\n",
    "Seperti yang telah disebutkan pada *Langkah 1*, pertama-tama definisikan gambar yang ingin ditampilkan (*figure*), setelah itu tambahkan sebuah sumbu sebagai penanda lokasi dari objek yang akan anda buat, kemudian ciptakan objek lingkaran dengan posisi relatif pada sumbu yang telah anda definisikan sebelumnya. Pada contoh kode yang disediakan di bawah ini, objek lingkaran disimpan sebagai `c1` dan sumbu dibuat menggunakan perintah `axes` dengan pengaturan `aspect='equal'` untuk memastikan sumbu-$x$ dan sumbu-$y$ memiliki skala yang sama (objek lingkaran terplot sebagai lingkaran bukan elips). Terakhir, atur nilai maksimum dan minimum yang ditampilkan pada sumbu-sumbu grafik. Hal ini penting untuk diingat karena `matplotlib` tidak akan secara otomatis menghitung nilai maksimum dan minimum dari sebuah grafik ketika anda menambahkan sebuah *patch* baru.\n",
    "\n",
    "Pada *Langkah 2* sumbu ke dua, yang digunakan sebagai penanda lokasi dari *widget* **tombol radio**, didefinisikan dan diberi nama `rax`. Gunakan `'equal'` sebagai pengaturan untuk `aspect` agar tombol yang ditampikan berbentuk lingkaran sempurna. Beri judul `Radius` bagi sumbu ini.\n",
    "\n",
    "*Langkah 3* dimulai dengan membuat sebuah objek `RadioButtons` dengan nama `radio`. Kelas `RadioButtons` dapat dipanggil dengan menggunakan dua buah argumen: sumbu di mana **tombol radio** ini berada (dalam kasus ini bernama `rax`) dan sebuah daftar atau *list* berisi label dari tombol-tombol yang akan dimasukkan (pada contoh di bawah ini kita akan menciptakan tiga buah tombol dengan label 1, 2, dan 6). Tipe dari argumen *list* yang dikenali oleh `matplotlib.widgets` adalah *string*, pastikan bahwa anda memasukkan informasi berupa nama-nama label ke dalam *list* dalam bentuk *string*. Dua argumen tambahan yang bisa digunakan ketika mendeklarasikan kelas ini adalah: `active=1` yang memberi tahu Python agar tombol dengan indeks 1, tombol pertama memiliki indeks 0, digunakan sebagai pilihan *default* setelah kelas dipanggil karena lingkaran memiliki radius $R=2$ dan `activecolor=r` untuk memberi tahu Python agar warna merah digunakan sebagai penanda tombol yang sedang diaktifkan.\n",
    "\n",
    "Pada *Langkah 4* definisikan fungsi yang akan dipanggil apabila *user* ingin mengubah pengaturan radius lingkaran menggunakan tombol-tombol yang ditampilkan pada gambar. Dalam contoh di bawah ini, `setradius` digunakan sebagai nama dari fungsi (anda dapat menggunakan sistem penamaan yang berbeda). Fungsi ini hanya membutuhkan satu argumen: label dari salah satu **tombol radio** yang telah dideklarasikan sebelumnya. Fungsi ini bertujuan untuk mengubah radius dari lingkaran `c1` sesuai dengan nilai yang tertera pada label dari **tombol radio** yang dipilih oleh *user*. Ingat bahwa tipe variabel dari label adalah *string* sehingga kita perlu mengubahnya menjadi *float* agar dapat dikenali oleh fungsi `set_radius` yang disediakan oleh paket `matplotlib.patches`. Fungsi ini diakhiri dengan perintah `draw()` yang akan menggambar ulang objek lingkaran dengan radius yang baru.\n",
    "\n",
    "Selanjutnya, pada *Langkah 5*, tambahkan perintah untuk membuat objek radio memanggil fungsi `setradius` ketika salah satu dari **tombol radio** yang terdapat pada grafik dipilih oleh *user*. Fungsi `on_clicked` merupakan bagian dari kelas `RadioButtons` yang tersedia di dalam paket `matplotlib.widgets`.\n",
    "\n",
    "Langkah terakhir, *Langkah 6*, tambahkan perintah `show()` ke dalam kode anda untuk menampilkan gambar yang telah anda buat.\n",
    "\n",
    "Ketika anda menjalankan kode di bawah ini, jendela terpisah akan muncul yang memuat grafik dengan *widget-widget* yang telah anda ciptakan sebelumnya. Anda dapat mengubah radius lingkaran secara interaktif pada jendela tersebut dengan memilih tombol yang berbeda. Gambar yang terdapat di bawah contoh kode merupakan contoh dari apa yang akan lihat setelah kode diaktivasi."
   ]
  },
  {
   "cell_type": "code",
   "execution_count": 2,
   "metadata": {
    "collapsed": false
   },
   "outputs": [],
   "source": [
    "from pylab import *\n",
    "from matplotlib.widgets import RadioButtons\n",
    "from matplotlib.patches import Circle\n",
    "# Langkah 1\n",
    "fig = figure(figsize=(12,8))\n",
    "ax1 = fig.add_axes([0.4,0.1,0.4,0.8], aspect='equal')\n",
    "c1 = Circle(xy=(0,0),radius=2)\n",
    "ax1.add_patch(c1)\n",
    "ax1.set_xlim(-5,5)\n",
    "ax1.set_ylim(-5,5)\n",
    "# Langkah 2\n",
    "rax = fig.add_axes([0.1,0.45,0.2,0.2], aspect='equal', title='Radius')\n",
    "# Langkah 3\n",
    "radio = RadioButtons( rax, ['1','2','6'], active=1, activecolor='r')\n",
    "# Langkah 4\n",
    "def setradius(label):\n",
    "    c1.set_radius(float(label))\n",
    "    draw()\n",
    "# Langkah 5\n",
    "radio.on_clicked(setradius)\n",
    "# Langkah 6\n",
    "show()"
   ]
  },
  {
   "cell_type": "markdown",
   "metadata": {},
   "source": [
    "<figure>\n",
    "  <IMG style='border:1px solid #000000' SRC=\"https://raw.githubusercontent.com/mbakker7/exploratory_computing_with_python/master/notebook_adv4/circle_radio_buttons.png\" WIDTH=700>\n",
    "</figure>"
   ]
  },
  {
   "cell_type": "markdown",
   "metadata": {},
   "source": [
    "### Latihan 1. <a name=\"back1\"></a> **Tombol radio** untuk mengubah warna\n",
    "Tambahkan sebuah set **tombol radio** untuk mengubah pengaturan warna dari lingkaran yang telah anda buat di atas. Anda dapat mengubah posisi dari **tombol-tombol radio** yang pertama untuk menjaga tingkat estetika dari grafik. Sediakan setidaknya tiga pilihan yang berbeda untuk warna lingkaran. Perhatikan bahwa terdapat fungsi `set_color` di dalam objek `Circle` yang disediakan oleh paket `matplotlib.patches`."
   ]
  },
  {
   "cell_type": "code",
   "execution_count": 2,
   "metadata": {
    "collapsed": false
   },
   "outputs": [],
   "source": []
  },
  {
   "cell_type": "markdown",
   "metadata": {},
   "source": [
    "<a href=\"#ex1answer\">Kunci Jawaban untuk Latihan 1</a>"
   ]
  },
  {
   "cell_type": "markdown",
   "metadata": {},
   "source": [
    "###  Merubah bentuk dari sebuah garis\n",
    "Proses untuk menambahkan garis ke dalam suatu gambar kurang lebih sama dengan menambahkan objek berupa lingkaran. Objek berupa garis didefinisikan menggunakan perintah `Line2D`. Pada contoh di bawah ini, sebuah garis $y=ax+b$ akan ditambahkan ke dalam grafik dengan menggunakan urutan langkah yang sama seperti yang telah dijelaskan pada contoh sebelumnya. Setelah garis dideklarasikan, sebuah set **tombol radio** ditambahkan agar *user* dapat mengubah pengaturan kemiringan garis. Gambar yang terdapat di bawah contoh kode merupakan contoh dari apa yang akan lihat setelah kode diaktivasi. "
   ]
  },
  {
   "cell_type": "code",
   "execution_count": 3,
   "metadata": {
    "collapsed": false
   },
   "outputs": [],
   "source": [
    "from pylab import *\n",
    "from matplotlib.widgets import RadioButtons\n",
    "from matplotlib.lines import Line2D\n",
    "\n",
    "# Langkah 1: Definisikan gambar dan objek garis\n",
    "fig = figure(figsize=(12,8))\n",
    "ax = fig.add_axes([0.4,0.1,0.5,0.8],aspect='equal')\n",
    "a = 1\n",
    "b = 0\n",
    "x = linspace(0,20,10)\n",
    "y = a * x + b\n",
    "line1 = Line2D(x,y)\n",
    "ax.add_line(line1)\n",
    "xlim(0,20)\n",
    "ylim(0,20)\n",
    "\n",
    "# Definisikan set tombol-tombol radio untuk mengubah pengaturan kemiringan garis\n",
    "# Langkah 2 \n",
    "ax1 = fig.add_axes([0.1,0.65,0.2,0.2], aspect='equal', title='slope')\n",
    "# Langkah 3\n",
    "slope = RadioButtons( ax1, ['0.5','1','2'], active=1, activecolor='r')\n",
    "# Langkah 4\n",
    "def setslope(label):\n",
    "    a = float(label)\n",
    "    y = a * x + b\n",
    "    line1.set_ydata(y)\n",
    "    draw()\n",
    "# Langkah 5\n",
    "slope.on_clicked(setslope)\n",
    "# Langkah 6\n",
    "show()"
   ]
  },
  {
   "cell_type": "markdown",
   "metadata": {},
   "source": [
    "<figure>\n",
    "  <IMG style='border:1px solid #000000' SRC=\"https://raw.githubusercontent.com/mbakker7/exploratory_computing_with_python/master/notebook_adv4/line_radio_buttons.png\" WIDTH=700>\n",
    "</figure>"
   ]
  },
  {
   "cell_type": "markdown",
   "metadata": {},
   "source": [
    "Dalam fungsi `setslope` yang didefinisikan pada *Langkah 4*, besar dari kemiringan garis (`a`) disesuaikan dengan **tombol radio** yang dipilih oleh *user*, maka dari itu nilai dari variabel `a` hanya dikenali di dalam fungsi `setslope`. Hal ini sesuai dengan fakta bahwa variabel apapun yang didefinisikan di dalam sebuah fungsi hanya dikenali oleh Python di dalam lingkungan fungsi tersebut. Namun dalam contoh kasus ini kita juga ingin dapat mengubah nilai `a` di luar fungsi `setslope`. Untuk mencapai hal ini kita harus mendefinisikan `a` sebagai variabel global di dalam fungsi `setslope`. Selain kemiringan garis, tambahkan satu set **tombol radio** lainnya untuk mengubah nilai $y$-*intercept* dari garis (`b`). Jangan lupa untuk mendeklarasikan `b` sebagai variabel global di dalam fungsi `setintercept` seperti yang kita lakukan dalam `setslope`."
   ]
  },
  {
   "cell_type": "code",
   "execution_count": 4,
   "metadata": {
    "collapsed": false
   },
   "outputs": [],
   "source": [
    "from pylab import *\n",
    "from matplotlib.widgets import RadioButtons\n",
    "from matplotlib.lines import Line2D\n",
    "\n",
    "# Langkah 1: Definisikan gambar dan objek garis\n",
    "fig = figure(figsize=(12,8))\n",
    "ax = fig.add_axes([0.4,0.1,0.5,0.8],aspect='equal')\n",
    "a = 1\n",
    "b = 0\n",
    "x = linspace(0,20,10)\n",
    "y = a * x + b\n",
    "line1 = Line2D(x,y)\n",
    "ax.add_line(line1)\n",
    "xlim(0,20)\n",
    "ylim(0,20)\n",
    "\n",
    "# Definisikan set tombol radio yang dibutuhkan untuk mengatur kemiringan garis dan intercept\n",
    "# Langkah 2\n",
    "ax1 = fig.add_axes([0.1,0.65,0.2,0.2], aspect='equal', title='kemiringan garis')\n",
    "ax2 = fig.add_axes([0.1,0.25,0.2,0.2], aspect='equal', title='intercept')\n",
    "# Langkah 3\n",
    "slope = RadioButtons( ax1, ['0.5','1','2'], active=1, activecolor='r')\n",
    "intercept = RadioButtons( ax2, ['0','5','10'], active=0, activecolor='r')\n",
    "# Langkah 4\n",
    "def setslope(label):\n",
    "    global a\n",
    "    a = float(label)\n",
    "    y = a * x + b\n",
    "    line1.set_ydata(y)\n",
    "    draw()\n",
    "def setintercept(label):\n",
    "    global b\n",
    "    b = float(label)\n",
    "    y = a * x + b\n",
    "    line1.set_ydata(y)\n",
    "    draw()\n",
    "# Langkah 5\n",
    "slope.on_clicked(setslope)\n",
    "intercept.on_clicked(setintercept)\n",
    "# Langkah 6\n",
    "show() "
   ]
  },
  {
   "cell_type": "markdown",
   "metadata": {},
   "source": [
    "### Latihan 2. <a name=\"back2\"></a>Defleksi pada sebuah balok\n",
    "Bayangkan defleksi yang bersifat elastik pada sebuah balok dengan beban yang seragam sebesar $q$. Terdapat dua buah tiang/kolom yang menyangga balok ini seperti yang dapat anda lihat pada gambar di bawah ini. Rumus yang mendefinisikan bentuk $y(x)$ dari balok yang terdeformasi ini adalah:\n",
    "\n",
    "$y = -\\frac{qx}{24EI} (L^3 - 2Lx^2 + x^3)$\n",
    "\n",
    "di mana $E$ merupakan modulus elastisitas Young, $I$ merupakan area dari momen inersia (area MOI), dan $L$ adalah panjang dari balok. Buatlah sebuah grafik menggunakan nilai $q=100$ N/m, $L=5000$ m, $I = 1067\\cdot 10^6$ mm$^4$ (i.e. sebuah balok dengan lebar 200 mm dan tinggi 400 mm), dan modulus elastisitas dari sebuah balok kayu $E=11000$ N/mm$^2$. Atur agar sumbu-$x$  menunjukkan nilai $0$ sampai dengan $5000$ dan sumbu-$y$ menunjukkan nilai $-100$ sampai $0$ (`matplotlib` tidak akan mampu menghasilkan grafik yang benar apabila anda lupa mencatumkan baris kode untuk pengaturan ini karena nilai minimum dan maksimum sumbu tidak secara otomatis dihitung oleh Python di dalam mode *OOP*). Setelah itu tambahkan 2 set **tombol radio**; untuk mengatur material dari balok (kayu: $E=11000$ N/mm$^2$, beton: $E=35000$ N/mm$^2$, atau aluminum: $E=71000$ N/mm$^2$, dan yang ke dua untuk mengatur besar beban uniform ($50$, $100$ or $200$ N/mm). Apabila kode yang anda buat bekerja dengan benar maka ketika jenis material untuk balok diganti maka bentuk dari balok ketika terdeformasi juga akan berubah sesuai dengan modulus elastisitas material yang terpilih.\n",
    "\n",
    "<img src=\"http://upload.wikimedia.org/wikipedia/commons/thumb/c/c9/Bending.svg/320px-Bending.svg.png\" alt=\"deflection\" width=\"300\">"
   ]
  },
  {
   "cell_type": "code",
   "execution_count": 4,
   "metadata": {
    "collapsed": false
   },
   "outputs": [],
   "source": []
  },
  {
   "cell_type": "markdown",
   "metadata": {},
   "source": [
    "<a href=\"#ex2answer\">Kunci Jawaban untuk Latihan 2</a>"
   ]
  },
  {
   "cell_type": "markdown",
   "metadata": {},
   "source": [
    "### *Slider*\n",
    "\n",
    "Bayangkan kembali sebuah gambar dengan objek lingkaran seperti yang telah kita buat pada contoh soal pertama dalam Notebook ini, tambahkan sebuah garis horizontal melewati titik pusat dari lingkaran. Pada contoh kasus kali ini, kita akan mencoba untuk mengubah rotasi dari objek lingkaran dari -180$^\\circ$ sampai +180$^\\circ$ menggunakan *widget* berupa *slider*. Proses yang dibutuhkan untuk mencapai hal ini serupa dengan proses-6-langkah yang telah kita pelajari pada contoh soal sebelumnya.\n",
    "\n",
    "Definisikan gambar yang akan kita buat pada *Langkah 1*. Ciptakan objek garis menggunakan kelas `Line2D` melalui dua buah titik: $(x,y)=(-R\\cos(\\alpha),-R\\sin(\\alpha))$ dan $(x,y)=(R\\cos(\\alpha),R\\sin(\\alpha))$, di mana kondisi inisial untuk sudut adalah $\\alpha=0$ dan $R=3$ untuk radius lingkaran. Beri nama garis ini `line1`.\n",
    "\n",
    "Pada *Langkah 2* tambahkan sebuah sumbu baru yang akan kita gunakan sebagai acuan untuk meletakkan *slider*. *Langkah 3* merupakan langkah di mana kita menciptakan *slider* untuk mengatur besar sudut, beri nama `angleslider` terhadap *slider* ini. Kelas `Slider` yang tersedia di dalam paket `matplotlib.widgets` membutuhkan empat buah argumen: sumbu acuan untuk meletakkan *slider*, nama dari *slider* yang akan diletakkan tepat di sebelah *slider*, nilai maksimum, dan nilai minimum. Selain argumen input yang wajib diberikan, terdapat argumen kata kunci dapat kita tambahkan seperti `valinit` untuk mengatur nilai inisial dari *slider* saat ditampilkan (cek argumen kata kunci lainnya dengan mengetik `Slider?` setelah anda mengimpor objek tersebut dari `matplotlib.widgets`.\n",
    "\n",
    "Di *Langkah 4* kita mendefinisikan sebuah fungsi bernama `setangle` yang akan terpanggil ketika nilai dari *slider* diubah oleh *user*. Atur agar argumen input yang dibutuhkan oleh fungsi `setangle` ini adalah nilai dari *slider* itu sendiri. Ketika fungsi terpanggil maka nilai dari $x$ dan $y$ pada garis akan berubah dan garis baru akan terplot pada grafik. Pada *Langkah 5* pastikan bahwa kelas `angleslider` mampu memanggil fungsi `setangle` ketika kondisi *slider* berubah. Gunakan fungsi `on_changed` untuk melakukan hal ini. Langkah terakhir, *Langkah 6*, merupakan langkah di mana kita memberi tahu Python untuk menampilkan gambar yang telah kita deklarasikan menggunakan perintah `show()`. Gambar yang terdapat di bawah Latihan 3 menunjukkan bentuk yang lebih kompleks dari grafik yang akan dihasilkan dari contoh kasus ini."
   ]
  },
  {
   "cell_type": "code",
   "execution_count": 5,
   "metadata": {
    "collapsed": false
   },
   "outputs": [],
   "source": [
    "from pylab import *\n",
    "from matplotlib.widgets import Slider\n",
    "from matplotlib.patches import Circle\n",
    "\n",
    "# Langkah 1: Buat gambar yang dilengkapi dengan objek lingkaran dan garis\n",
    "fig = figure(figsize=(6,8))\n",
    "ax1 = fig.add_axes([0.1,0.3,0.8,0.6], aspect='equal')\n",
    "R = 3\n",
    "c1 = Circle(xy=(0,0),radius=R,fc='violet')\n",
    "ax1.add_patch(c1)\n",
    "angle = 0\n",
    "line1 = Line2D(xdata = [-R*cos(angle),R*cos(angle)],\\\n",
    "            ydata = [-R*sin(angle),R*sin(angle)],color='k')\n",
    "ax1.add_line(line1)\n",
    "xlim(-5,5)\n",
    "ylim(-5,5)\n",
    "# Langkah 2: Buat sumbu sebagai acuan untuk slider\n",
    "axslider = fig.add_axes([0.2,0.15,0.6,0.05])\n",
    "# Langkah 3: Definisikan slider \n",
    "angleslider = Slider(axslider, 'Angle', -180, 180, valinit=0)\n",
    "# Langkah 4: Definisikan fungsi yang akan terpanggil apabila kondisi dari slider berubah\n",
    "def setangle(val):\n",
    "    angle = val * pi/180\n",
    "    line1.set_xdata([-R*cos(angle),R*cos(angle)])\n",
    "    line1.set_ydata([-R*sin(angle),R*sin(angle)])\n",
    "    draw()\n",
    "# Langkah 5: Atur agar kelas angleslider memanggil fungsi yang tepat ketika kondisi slider berubah\n",
    "angleslider.on_changed(setangle)\n",
    "# Langkah 6: Tampilkan gambar\n",
    "show()"
   ]
  },
  {
   "cell_type": "markdown",
   "metadata": {},
   "source": [
    "### Latihan 3. <a name=\"back3\"></a>*Sliders*\n",
    "*Bagian 1*\n",
    "Tambahkan sebuah penanda berupa lingkaran berwarna biru dengan radius 0.2 pada titik temu antara garis dan lingkaran seperti yang ditunjukkan pada gambar di bawah ini (tanpa *slider* ke dua). Atur kondisi inisial sebagai berikut: saat $\\alpha=0$ maka titik pusat dari penanda lingkaran berada pada $(x,y)=(R,0)$. Pastikan bahwa penanda lingkaran bergerak bersama-sama dengan garis ketika besar sudut diubah melalui *slider*. "
   ]
  },
  {
   "cell_type": "markdown",
   "metadata": {},
   "source": [
    "*Bagian 2*\n",
    "Tambahkan *slider* ke dua ke dalam gambar yang telah anda ciptakan pada *Bagian 1*. Atur agar *slider* ke dua ini dapat digunakan *user* untuk mengubah radius dari objek lingkaran (dari 2 sampai 4). Perhatikan bahwa anda harus menambahkan sumbu baru sebagai acuan untuk *slider* yang ke dua di bawah *Langkah 2*, sebuah objek *slider* baru sebagai *slider* ke dua di bawah *Langkah 3*, fungsi-fungsi update baru di bawah *Langkah 4*, dan memodifikasi baris kode di bawah *Langkah 5* untuk memberi tahu Python fungsi mana yang harus dipanggil ketika *slider* tertentu diubah nilainya. Fungsi `setangle` yang diberikan pada contoh kode di atas dibuat menggunakan variabel `R` untuk merujuk pada radius objek lingkaran `c1`. Pada latihan ini, besar radius $R$ ditentukan dari kondisi *slider* ke dua. Berdasarkan pengaturan yang terdapat pada kelas `Slider`, kondisi terkini dari sebuah *slider* disimpan dalam atribut bernama `val`, sehingga apabila anda memberi nama `namaslider` pada *slider* anda maka kondisi terkini dari *slider* dapat anda akses melalui `namaslider.val`. Ketika anda menulis kode anda penting untuk diingat bahwa anda perlu mendefinisikan kedua objek *slider* di bawah *Langkah 3* karena fungsi update yang akan anda definisikan pada *Langkah 4* harus dapat mengakses nilai dari kedua *slider* (baik untuk radius maupun sudut). Apabila kode anda dapat bekerja dengan tepat maka anda akan mendapatkan sebuah gambar seperti yang ditunjukkan di bawah ini. \n",
    "\n",
    "<img src=\"http://i.imgur.com/uZihbmZ.png\" alt=\"circle with slider\" width=\"450\">"
   ]
  },
  {
   "cell_type": "code",
   "execution_count": 5,
   "metadata": {
    "collapsed": false
   },
   "outputs": [],
   "source": []
  },
  {
   "cell_type": "markdown",
   "metadata": {},
   "source": [
    "<a href=\"#ex3answer\">Kunci Jawaban untuk Latihan 3</a>"
   ]
  },
  {
   "cell_type": "markdown",
   "metadata": {},
   "source": [
    "### Kunci Jawaban"
   ]
  },
  {
   "cell_type": "markdown",
   "metadata": {},
   "source": [
    "<a name=\"ex1answer\">Kunci Jawaban untuk Latihan 1</a>"
   ]
  },
  {
   "cell_type": "code",
   "execution_count": 6,
   "metadata": {
    "collapsed": false
   },
   "outputs": [],
   "source": [
    "from pylab import *\n",
    "from matplotlib.widgets import RadioButtons\n",
    "from matplotlib.patches import Circle\n",
    "\n",
    "# Buat gambar beserta dengan objek lingkaran\n",
    "fig = figure(figsize=(12,8))\n",
    "ax1 = fig.add_axes([0.4,0.1,0.5,0.8], aspect='equal')\n",
    "c1 = Circle(xy=(0,0),radius=2,color='blue')\n",
    "ax1.add_patch(c1)\n",
    "xlim(-5,5)\n",
    "ylim(-5,5)\n",
    "\n",
    "# Definisikan tombol radio untuk mengatur radius objek lingkaran\n",
    "rax = axes([0.1,0.65,0.2,0.2], aspect='equal', title='radius')\n",
    "radio = RadioButtons( rax, ['1','2','6'], active=1, activecolor='r')\n",
    "def setradius(label):\n",
    "    c1.set_radius(float(label))\n",
    "    draw()\n",
    "radio.on_clicked(setradius)\n",
    "\n",
    "# Definisikan tombol radio untuk mengatur warna dari objek lingkaran\n",
    "cax = axes([0.1,0.25,0.2,0.2], aspect='equal', title='warna')\n",
    "color = RadioButtons( cax, ['violet','blue','green','black'], active=1, activecolor='r')\n",
    "def setcolor(label):\n",
    "    c1.set_color(label)\n",
    "    draw()\n",
    "color.on_clicked(setcolor)\n",
    "\n",
    "show()"
   ]
  },
  {
   "cell_type": "markdown",
   "metadata": {},
   "source": [
    "<a href=\"#back1\">Kembali ke Latihan 1</a>\n",
    "\n",
    "<a name=\"ex2answer\">Kunci Jawaban untuk Latihan 2</a>"
   ]
  },
  {
   "cell_type": "code",
   "execution_count": 7,
   "metadata": {
    "collapsed": false
   },
   "outputs": [],
   "source": [
    "from pylab import *\n",
    "from matplotlib.widgets import RadioButtons\n",
    "from matplotlib.lines import Line2D\n",
    "\n",
    "fig = figure()\n",
    "ax1 = fig.add_axes([0.1,0.4,0.8,0.5])\n",
    "E = 11e3\n",
    "I = 1067e6\n",
    "q = 100\n",
    "L = 5000\n",
    "x = linspace(0,L,100)\n",
    "d = -q * x / (24*E*I) * (L**3 - 2*L*x**2 + x**3)\n",
    "line = Line2D(xdata=x,ydata=d)\n",
    "ax1.add_line(line)\n",
    "xlabel('x (mm)')\n",
    "ylabel('defleksi (mm)')\n",
    "xlim(0,L)\n",
    "ylim(-100,0)\n",
    "\n",
    "ax2 = fig.add_axes([0.05,0.05,0.2,0.2],aspect='equal',title='material')\n",
    "ax3 = fig.add_axes([0.55,0.05,0.2,0.2],aspect='equal',title='qload')\n",
    "\n",
    "Emod = RadioButtons( ax2, ['kayu','beton','aluminum'], active=0, activecolor='r')\n",
    "qload = RadioButtons( ax3, ['50','100','200'], active=1, activecolor='r')\n",
    "def setEmod(label):\n",
    "    global E\n",
    "    if label == 'kayu': E = 11e3\n",
    "    if label == 'beton': E = 35e3\n",
    "    if label == 'aluminum': E = 71e3\n",
    "    d = -q * x / (24*E*I) * (L**3 - 2*L*x**2 + x**3)\n",
    "    line.set_ydata(d)\n",
    "    draw()\n",
    "def setqload(label):\n",
    "    global q\n",
    "    q = float(label)\n",
    "    d = -q * x / (24*E*I) * (L**3 - 2*L*x**2 + x**3)\n",
    "    line.set_ydata(d)\n",
    "    draw()\n",
    "Emod.on_clicked(setEmod)\n",
    "qload.on_clicked(setqload)\n",
    "\n",
    "show()"
   ]
  },
  {
   "cell_type": "markdown",
   "metadata": {},
   "source": [
    "<a href=\"#back2\">Kembali ke Latihan 2</a>\n",
    "\n",
    "<a name=\"ex3answer\">Kunci Jawaban untuk Latihan 3</a>"
   ]
  },
  {
   "cell_type": "code",
   "execution_count": null,
   "metadata": {
    "collapsed": false
   },
   "outputs": [],
   "source": [
    "from pylab import *\n",
    "from matplotlib.widgets import Slider\n",
    "from matplotlib.patches import Circle\n",
    "\n",
    "fig = figure(figsize=(6,8))\n",
    "ax1 = fig.add_axes([0.1,0.3,0.8,0.6], aspect='equal')\n",
    "R = 3\n",
    "c1 = Circle(xy=(0,0),radius=R,fc='violet')\n",
    "ax1.add_patch(c1)\n",
    "angle = 0\n",
    "l1 = Line2D(xdata = [-R*cos(angle),R*cos(angle)],\\\n",
    "            ydata = [-R*sin(angle),R*sin(angle)],color='k')\n",
    "ax1.add_line(l1)\n",
    "c2 = Circle(xy=(R*cos(angle),R*sin(angle)),radius=0.2,fc='b')\n",
    "ax1.add_patch(c2)\n",
    "xlim(-5,5)\n",
    "ylim(-5,5)\n",
    "\n",
    "axslider = fig.add_axes([0.2,0.15,0.6,0.05])\n",
    "angleslider = Slider(axslider, 'Sudut', -180, 180, valinit=0)\n",
    "axslider2 = fig.add_axes([0.2,0.05,0.6,0.05])\n",
    "angleslider2 = Slider(axslider2, 'Radius', 2, 4, valinit=3)\n",
    "\n",
    "def update(val):\n",
    "    angle = val * pi/180\n",
    "    R = angleslider2.val\n",
    "    l1.set_xdata([-R*cos(angle),R*cos(angle)])\n",
    "    l1.set_ydata([-R*sin(angle),R*sin(angle)])\n",
    "    c2.center = R*cos(angle),R*sin(angle)\n",
    "    draw()\n",
    "\n",
    "def update2(R):\n",
    "    angle = angleslider.val * pi/180\n",
    "    l1.set_xdata([-R*cos(angle),R*cos(angle)])\n",
    "    l1.set_ydata([-R*sin(angle),R*sin(angle)])\n",
    "    c2.center = R*cos(angle),R*sin(angle)\n",
    "    c1.radius = R\n",
    "    draw()\n",
    "\n",
    "angleslider.on_changed(update)\n",
    "angleslider2.on_changed(update2)\n",
    "\n",
    "show()"
   ]
  },
  {
   "cell_type": "markdown",
   "metadata": {},
   "source": [
    "<a href=\"#back3\">Kembali ke Latihan 3</a>"
   ]
  }
 ],
 "metadata": {
  "kernelspec": {
   "display_name": "Python 3",
   "language": "python",
   "name": "python3"
  },
  "language_info": {
   "codemirror_mode": {
    "name": "ipython",
    "version": 3
   },
   "file_extension": ".py",
   "mimetype": "text/x-python",
   "name": "python",
   "nbconvert_exporter": "python",
   "pygments_lexer": "ipython3"
  }
 },
 "nbformat": 4,
 "nbformat_minor": 0
}
